{
 "cells": [
  {
   "cell_type": "code",
   "execution_count": null,
   "id": "7c9d9789-44d1-45d5-8fba-b868b1a7e9c8",
   "metadata": {},
   "outputs": [
    {
     "name": "stdout",
     "output_type": "stream",
     "text": [
      "\n",
      "Bem vindo ao jogo da velha! Vamos começar!\n",
      "\n",
      "\n",
      " | | \n",
      " | | \n",
      " | | \n",
      "\n",
      "Este é o nosso tabuleiro!\n",
      "\n"
     ]
    },
    {
     "name": "stdin",
     "output_type": "stream",
     "text": [
      "\n",
      "Jogador O, selecione a linha da jogada(1, 2 ou 3):  1\n",
      "\n",
      "Jogador O, selecione a coluna da jogada(1, 2 ou 3):  1\n"
     ]
    },
    {
     "name": "stdout",
     "output_type": "stream",
     "text": [
      "\n",
      "\n",
      "O| | \n",
      " | | \n",
      " | | \n"
     ]
    },
    {
     "name": "stdin",
     "output_type": "stream",
     "text": [
      "\n",
      "Jogador X, selecione a linha da jogada(1, 2 ou 3):  2\n",
      "\n",
      "Jogador X, selecione a coluna da jogada(1, 2 ou 3):  3\n"
     ]
    },
    {
     "name": "stdout",
     "output_type": "stream",
     "text": [
      "\n",
      "\n",
      "O| | \n",
      " | |X\n",
      " | | \n"
     ]
    },
    {
     "name": "stdin",
     "output_type": "stream",
     "text": [
      "\n",
      "Jogador O, selecione a linha da jogada(1, 2 ou 3):  1\n",
      "\n",
      "Jogador O, selecione a coluna da jogada(1, 2 ou 3):  2\n"
     ]
    },
    {
     "name": "stdout",
     "output_type": "stream",
     "text": [
      "\n",
      "\n",
      "O|O| \n",
      " | |X\n",
      " | | \n"
     ]
    },
    {
     "name": "stdin",
     "output_type": "stream",
     "text": [
      "\n",
      "Jogador X, selecione a linha da jogada(1, 2 ou 3):  1\n",
      "\n",
      "Jogador X, selecione a coluna da jogada(1, 2 ou 3):  3\n"
     ]
    },
    {
     "name": "stdout",
     "output_type": "stream",
     "text": [
      "\n",
      "\n",
      "O|O|X\n",
      " | |X\n",
      " | | \n"
     ]
    },
    {
     "name": "stdin",
     "output_type": "stream",
     "text": [
      "\n",
      "Jogador O, selecione a linha da jogada(1, 2 ou 3):  3\n",
      "\n",
      "Jogador O, selecione a coluna da jogada(1, 2 ou 3):  3\n"
     ]
    },
    {
     "name": "stdout",
     "output_type": "stream",
     "text": [
      "\n",
      "\n",
      "O|O|X\n",
      " | |X\n",
      " | |O\n"
     ]
    },
    {
     "name": "stdin",
     "output_type": "stream",
     "text": [
      "\n",
      "Jogador X, selecione a linha da jogada(1, 2 ou 3):  3\n",
      "\n",
      "Jogador X, selecione a coluna da jogada(1, 2 ou 3):  1\n"
     ]
    },
    {
     "name": "stdout",
     "output_type": "stream",
     "text": [
      "\n",
      "\n",
      "O|O|X\n",
      " | |X\n",
      "X| |O\n"
     ]
    },
    {
     "name": "stdin",
     "output_type": "stream",
     "text": [
      "\n",
      "Jogador O, selecione a linha da jogada(1, 2 ou 3):  3\n",
      "\n",
      "Jogador O, selecione a coluna da jogada(1, 2 ou 3):  2\n"
     ]
    },
    {
     "name": "stdout",
     "output_type": "stream",
     "text": [
      "\n",
      "\n",
      "O|O|X\n",
      " | |X\n",
      "X|O|O\n"
     ]
    },
    {
     "name": "stdin",
     "output_type": "stream",
     "text": [
      "\n",
      "Jogador X, selecione a linha da jogada(1, 2 ou 3):  2\n",
      "\n",
      "Jogador X, selecione a coluna da jogada(1, 2 ou 3):  1\n"
     ]
    },
    {
     "name": "stdout",
     "output_type": "stream",
     "text": [
      "\n",
      "\n",
      "O|O|X\n",
      "X| |X\n",
      "X|O|O\n"
     ]
    },
    {
     "name": "stdin",
     "output_type": "stream",
     "text": [
      "\n",
      "Jogador O, selecione a linha da jogada(1, 2 ou 3):  3\n",
      "\n",
      "Jogador O, selecione a coluna da jogada(1, 2 ou 3):  3\n"
     ]
    },
    {
     "name": "stdout",
     "output_type": "stream",
     "text": [
      "\n",
      "Jogada inválida! Posição já ocupada! Tente novamente: \n",
      "\n"
     ]
    },
    {
     "name": "stdin",
     "output_type": "stream",
     "text": [
      "\n",
      "Jogador O, selecione a linha da jogada(1, 2 ou 3):  1\n",
      "\n",
      "Jogador O, selecione a coluna da jogada(1, 2 ou 3):  1\n"
     ]
    },
    {
     "name": "stdout",
     "output_type": "stream",
     "text": [
      "\n",
      "Jogada inválida! Posição já ocupada! Tente novamente: \n",
      "\n"
     ]
    },
    {
     "name": "stdin",
     "output_type": "stream",
     "text": [
      "\n",
      "Jogador O, selecione a linha da jogada(1, 2 ou 3):  2\n",
      "\n",
      "Jogador O, selecione a coluna da jogada(1, 2 ou 3):  2\n"
     ]
    },
    {
     "name": "stdout",
     "output_type": "stream",
     "text": [
      "\n",
      "\n",
      "O|O|X\n",
      "X|O|X\n",
      "X|O|O\n",
      "\n",
      "O Jogador O venceu!\n",
      "\n"
     ]
    },
    {
     "name": "stdin",
     "output_type": "stream",
     "text": [
      "\n",
      "\n",
      "A partida acabou! Deseja jogar novamente? Digite \"s\" ou \"n\":  s\n"
     ]
    },
    {
     "name": "stdout",
     "output_type": "stream",
     "text": [
      "\n",
      "Bem vindo ao jogo da velha! Vamos começar!\n",
      "\n",
      "\n",
      " | | \n",
      " | | \n",
      " | | \n",
      "\n",
      "Este é o nosso tabuleiro!\n",
      "\n"
     ]
    },
    {
     "name": "stdin",
     "output_type": "stream",
     "text": [
      "\n",
      "Jogador O, selecione a linha da jogada(1, 2 ou 3):  1\n",
      "\n",
      "Jogador O, selecione a coluna da jogada(1, 2 ou 3):  1\n"
     ]
    },
    {
     "name": "stdout",
     "output_type": "stream",
     "text": [
      "\n",
      "\n",
      "O| | \n",
      " | | \n",
      " | | \n"
     ]
    }
   ],
   "source": [
    "def mostrar_tabuleiro():\n",
    "    \"\"\"\n",
    "    UNIÃO DAS LISTAS CHAMADAS DE LINHA(1 A 3), FORMANDO O \"TABULEIRO\". USADO EM TODAS JOGADAS E AO IMPRIMIR O RESULTADO DA PARTIDA.\"\n",
    "    \"\"\"\n",
    "    print('\\n')\n",
    "    print(''.join(linha_1))\n",
    "    print(''.join(linha_2))\n",
    "    print(''.join(linha_3))\n",
    "    \n",
    "\n",
    "def inicio_de_jogo():\n",
    "    \n",
    "    \"\"\"\n",
    "    \"NÚCLEO\" DO JOGO, LOOP ATIVO ATÉ QUE ALGUM JOGADOR SE TORNE O VENCEDOR \n",
    "    CONDICIONAL DE EMPATE SE CONTADOR DE JOGADAS CHEGAR A 9\n",
    "    \"\"\"\n",
    "    \n",
    "    print('\\nBem vindo ao jogo da velha! Vamos começar!')\n",
    "\n",
    "    mostrar_tabuleiro()\n",
    "\n",
    "    print('\\nEste é o nosso tabuleiro!\\n')\n",
    "        \n",
    "    contador_jogadas = 0\n",
    "        \n",
    "    while True:\n",
    "    \n",
    "        joga('X','O')\n",
    "        if (checar('O') == True):\n",
    "            fim_de_jogo()\n",
    "            break\n",
    "        mostrar_tabuleiro()\n",
    "        contador_jogadas += 1\n",
    "\n",
    "        if contador_jogadas == 9:\n",
    "            print('\\nDeu velha!\\nO jogo acabou em empate!')\n",
    "            fim_de_jogo()\n",
    "            break\n",
    "\n",
    "\n",
    "        joga('O','X')\n",
    "        if (checar('X') == True):\n",
    "            fim_de_jogo()\n",
    "            break            \n",
    "        mostrar_tabuleiro()\n",
    "        contador_jogadas += 1   \n",
    "\n",
    "           \n",
    "    \n",
    "def fim_de_jogo():\n",
    "    \"\"\"\n",
    "    CHAMADO APÓS O PROGRAMA OBTER O RESULTADO DA PARTIDA, PEDINDO SE O USUÁRIO DESEJA JOGAR NOVAMENTE\n",
    "    \"\"\"\n",
    "    restart = input('\\n\\nA partida acabou! Deseja jogar novamente? Digite \"s\" ou \"n\": ')\n",
    "    restart = restart.lower()\n",
    "    if restart == 'n':\n",
    "            print('\\nObrigado por jogar! Até a próxima!')\n",
    "            exit()\n",
    "    elif restart == 's':\n",
    "        limpar_linhas()\n",
    "        inicio_de_jogo()\n",
    "    \n",
    "\n",
    "def limpar_linhas():\n",
    "    \"\"\"\n",
    "    LIMPAR O TABULEIRO E DEIXÁ-LO PRONTO PARA UMA NOVA PARTIDA\n",
    "    \"\"\"\n",
    "    for i in range(3):\n",
    "        for j in range(0,len(linha_1),2):\n",
    "            linhas[i][j] = ' '\n",
    "        \n",
    "            \n",
    "        \n",
    "        \n",
    "        \n",
    "        \n",
    "            \n",
    "def joga(x,y):\n",
    "    \"\"\"\n",
    "    FUNÇÃO PARA ATRIBUIR AS JOGADAS AO TABULEIRO\n",
    "    CHECAGEM DE POSIÇÃO PARA NÃO SOBREPOR UMA QUE JÁ ESTEJA OCUPADA\n",
    "    \"\"\"\n",
    "    jogada_linha = int(input(f'\\nJogador {y}, selecione a linha da jogada(1, 2 ou 3): '))\n",
    "        \n",
    "    while (jogada_linha < 1) or (jogada_linha > 3):\n",
    "        print('\\nJogada linha inválida! Tente novamente!\\n')\n",
    "        jogada_linha = int(input(f'\\nJogador {y}, selecione a linha da jogada(1, 2 ou 3): '))\n",
    "        \n",
    "    jogada_coluna = int(input(f'\\nJogador {y}, selecione a coluna da jogada(1, 2 ou 3): '))\n",
    "        \n",
    "    while (jogada_coluna < 1) or (jogada_coluna > 3):\n",
    "        print('\\nJogada coluna inválida! Tente novamente!\\n')\n",
    "        jogada_coluna = int(input(f'\\nJogador {y}, selecione a coluna da jogada(1, 2 ou 3): '))\n",
    "\n",
    "        \n",
    "    if jogada_coluna == 1:\n",
    "        jogada_coluna = 0\n",
    "        \n",
    "    elif jogada_coluna == 2:\n",
    "        jogada_coluna = 2\n",
    "        \n",
    "    elif jogada_coluna == 3:\n",
    "        jogada_coluna = 4\n",
    "        \n",
    "    #Váriavel jogada_coluna se transforma na posição da jogada na linha selecionada, existem \"barras\" intercalando as posições da lista linha então as possíveis posições para o jogador são 0,2 e 4.\n",
    "        \n",
    "    if jogada_linha == 1:\n",
    "        while (linha_1[jogada_coluna] == y) or (linha_1[jogada_coluna] == x) :\n",
    "            print('\\nJogada inválida! Posição já ocupada! Tente novamente: \\n')\n",
    "            joga(x,y)\n",
    "            break\n",
    "        else:\n",
    "            linha_1[jogada_coluna] = y\n",
    "        \n",
    "    elif jogada_linha == 2:\n",
    "        while (linha_2[jogada_coluna] == y) or (linha_2[jogada_coluna] == x) :\n",
    "            print('\\nJogada inválida! Posição já ocupada! Tente novamente: \\n')\n",
    "            joga(x,y)\n",
    "            break\n",
    "        else:\n",
    "            linha_2[jogada_coluna] = y\n",
    "        \n",
    "    elif jogada_linha == 3:\n",
    "        while (linha_3[jogada_coluna] == y) or (linha_3[jogada_coluna] == x):            \n",
    "            print('\\nJogada inválida! Posição já ocupada! Tente novamente: \\n')\n",
    "            joga(x,y)\n",
    "            break\n",
    "        else:\n",
    "            linha_3[jogada_coluna] = y\n",
    "\n",
    "        \n",
    "    \n",
    "\n",
    "\n",
    "\n",
    "    \n",
    "def checar(x):\n",
    "    \"\"\"\n",
    "    CHECAR LINHAS, COLUNAS E DIAGONAIS DO TABULEIRO COM O SÍMBOLO PEDIDO\n",
    "    CASO ENCONTRE 3 SÍMBOLOS NA MESMA LISTA, RETORNA QUE checar(simbolo) É VERDADEIRO E O RESULTADO DA PARTIDA\n",
    "    \"\"\"\n",
    "    coluna_1 = [linha_1[0],linha_2[0],linha_3[0]]\n",
    "    coluna_2 = [linha_1[2],linha_2[2],linha_3[2]]\n",
    "    coluna_3 = [linha_1[4],linha_2[4],linha_3[4]]\n",
    "\n",
    "    diagonal_1 = [linha_1[0],linha_2[2],linha_3[4]]\n",
    "    diagonal_2 = [linha_3[0],linha_2[2],linha_1[4]]\n",
    "\n",
    "    linhas = [linha_1,linha_2,linha_3]\n",
    "\n",
    "    colunas = [coluna_1,coluna_2,coluna_3]\n",
    "\n",
    "    diagonais = [diagonal_1,diagonal_2,'']\n",
    "\n",
    "    \n",
    "    for i in range(3):\n",
    "       \n",
    "        a = linhas[i].count(x)\n",
    "        b = colunas[i].count(x)\n",
    "        c = diagonais[i].count(x)\n",
    "        if (a == 3) or (b == 3) or (c == 3):\n",
    "            mostrar_tabuleiro()\n",
    "            print(f'\\nO Jogador {x} venceu!\\n')\n",
    "            return True            \n",
    "                                    \n",
    "            \n",
    "#Listas para refêrencia de tabuleiro, colunas e diagonais\n",
    "linha_1 = [' ','|',' ','|',' ']\n",
    "linha_2 = [' ','|',' ','|',' ']\n",
    "linha_3 = [' ','|',' ','|',' ']\n",
    "linhas = [linha_1,linha_2,linha_3]\n",
    "\n",
    "#Começo da partida\n",
    "inicio_de_jogo()\n"
   ]
  },
  {
   "cell_type": "code",
   "execution_count": null,
   "id": "e8bc1839-22e0-49ec-bd22-1cf0cba14c7c",
   "metadata": {},
   "outputs": [],
   "source": []
  },
  {
   "cell_type": "code",
   "execution_count": null,
   "id": "622232c3-18b1-4722-8cdd-9ec6277568c2",
   "metadata": {},
   "outputs": [],
   "source": []
  },
  {
   "cell_type": "code",
   "execution_count": null,
   "id": "6f4690f5-8081-4f2e-b68c-217c4d88e973",
   "metadata": {},
   "outputs": [],
   "source": []
  }
 ],
 "metadata": {
  "kernelspec": {
   "display_name": "Python 3",
   "language": "python",
   "name": "python3"
  },
  "language_info": {
   "codemirror_mode": {
    "name": "ipython",
    "version": 3
   },
   "file_extension": ".py",
   "mimetype": "text/x-python",
   "name": "python",
   "nbconvert_exporter": "python",
   "pygments_lexer": "ipython3",
   "version": "3.8.8"
  }
 },
 "nbformat": 4,
 "nbformat_minor": 5
}
